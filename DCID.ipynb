{
 "cells": [
  {
   "cell_type": "code",
   "execution_count": 1,
   "metadata": {},
   "outputs": [],
   "source": [
    "import pandas as pd\n",
    "from pandas import Series,DataFrame"
   ]
  },
  {
   "cell_type": "code",
   "execution_count": 2,
   "metadata": {},
   "outputs": [],
   "source": [
    "dcid_df = pd.read_csv('DCID.csv', encoding = \"ISO-8859-1\") # loading the dataset into a dataframe"
   ]
  },
  {
   "cell_type": "code",
   "execution_count": 4,
   "metadata": {},
   "outputs": [],
   "source": [
    "#dcid_df"
   ]
  },
  {
   "cell_type": "code",
   "execution_count": 5,
   "metadata": {},
   "outputs": [
    {
     "data": {
      "text/html": [
       "<div>\n",
       "<table border=\"1\" class=\"dataframe\">\n",
       "  <thead>\n",
       "    <tr style=\"text-align: right;\">\n",
       "      <th></th>\n",
       "      <th>Cyberincidentnum</th>\n",
       "      <th>Dyadpair</th>\n",
       "      <th>StateA</th>\n",
       "      <th>StateB</th>\n",
       "      <th>Name</th>\n",
       "      <th>interactionstartdate</th>\n",
       "      <th>interactionenddate</th>\n",
       "      <th>interactiontype</th>\n",
       "      <th>method</th>\n",
       "      <th>APT</th>\n",
       "      <th>...</th>\n",
       "      <th>Unnamed: 36</th>\n",
       "      <th>Unnamed: 37</th>\n",
       "      <th>Unnamed: 38</th>\n",
       "      <th>Unnamed: 39</th>\n",
       "      <th>Unnamed: 40</th>\n",
       "      <th>Unnamed: 41</th>\n",
       "      <th>Unnamed: 42</th>\n",
       "      <th>Unnamed: 43</th>\n",
       "      <th>Unnamed: 44</th>\n",
       "      <th>Unnamed: 45</th>\n",
       "    </tr>\n",
       "  </thead>\n",
       "  <tbody>\n",
       "    <tr>\n",
       "      <th>0</th>\n",
       "      <td>1</td>\n",
       "      <td>2365</td>\n",
       "      <td>US</td>\n",
       "      <td>Russia</td>\n",
       "      <td>US govt employee in Georgia hacked</td>\n",
       "      <td>8/6/2008</td>\n",
       "      <td>8/12/2008</td>\n",
       "      <td>1</td>\n",
       "      <td>4.2</td>\n",
       "      <td>0</td>\n",
       "      <td>...</td>\n",
       "      <td>NaN</td>\n",
       "      <td>NaN</td>\n",
       "      <td>NaN</td>\n",
       "      <td>NaN</td>\n",
       "      <td>NaN</td>\n",
       "      <td>NaN</td>\n",
       "      <td>NaN</td>\n",
       "      <td>NaN</td>\n",
       "      <td>NaN</td>\n",
       "      <td>NaN</td>\n",
       "    </tr>\n",
       "    <tr>\n",
       "      <th>1</th>\n",
       "      <td>2</td>\n",
       "      <td>2365</td>\n",
       "      <td>US</td>\n",
       "      <td>Russia</td>\n",
       "      <td>Iraq-Afghanistan Pentagon command hacked</td>\n",
       "      <td>11/26/2008</td>\n",
       "      <td>11/28/2008</td>\n",
       "      <td>3</td>\n",
       "      <td>4.2</td>\n",
       "      <td>0</td>\n",
       "      <td>...</td>\n",
       "      <td>NaN</td>\n",
       "      <td>NaN</td>\n",
       "      <td>NaN</td>\n",
       "      <td>NaN</td>\n",
       "      <td>NaN</td>\n",
       "      <td>NaN</td>\n",
       "      <td>NaN</td>\n",
       "      <td>NaN</td>\n",
       "      <td>NaN</td>\n",
       "      <td>NaN</td>\n",
       "    </tr>\n",
       "    <tr>\n",
       "      <th>2</th>\n",
       "      <td>3</td>\n",
       "      <td>2365</td>\n",
       "      <td>US</td>\n",
       "      <td>Russia</td>\n",
       "      <td>Power grid hacked, traced to Russia</td>\n",
       "      <td>8/24/2009</td>\n",
       "      <td>8/24/2009</td>\n",
       "      <td>1</td>\n",
       "      <td>4.2</td>\n",
       "      <td>0</td>\n",
       "      <td>...</td>\n",
       "      <td>NaN</td>\n",
       "      <td>NaN</td>\n",
       "      <td>NaN</td>\n",
       "      <td>NaN</td>\n",
       "      <td>NaN</td>\n",
       "      <td>NaN</td>\n",
       "      <td>NaN</td>\n",
       "      <td>NaN</td>\n",
       "      <td>NaN</td>\n",
       "      <td>NaN</td>\n",
       "    </tr>\n",
       "    <tr>\n",
       "      <th>3</th>\n",
       "      <td>4</td>\n",
       "      <td>2365</td>\n",
       "      <td>US</td>\n",
       "      <td>Russia</td>\n",
       "      <td>Reign malware campaign</td>\n",
       "      <td>01/02/2008</td>\n",
       "      <td>01/03/2011</td>\n",
       "      <td>3</td>\n",
       "      <td>3.0</td>\n",
       "      <td>1</td>\n",
       "      <td>...</td>\n",
       "      <td>NaN</td>\n",
       "      <td>NaN</td>\n",
       "      <td>NaN</td>\n",
       "      <td>NaN</td>\n",
       "      <td>NaN</td>\n",
       "      <td>NaN</td>\n",
       "      <td>NaN</td>\n",
       "      <td>NaN</td>\n",
       "      <td>NaN</td>\n",
       "      <td>NaN</td>\n",
       "    </tr>\n",
       "    <tr>\n",
       "      <th>4</th>\n",
       "      <td>5</td>\n",
       "      <td>2365</td>\n",
       "      <td>US</td>\n",
       "      <td>Russia</td>\n",
       "      <td>QWERTY keystroke log</td>\n",
       "      <td>01/02/2008</td>\n",
       "      <td>11/03/2011</td>\n",
       "      <td>3</td>\n",
       "      <td>4.4</td>\n",
       "      <td>1</td>\n",
       "      <td>...</td>\n",
       "      <td>NaN</td>\n",
       "      <td>NaN</td>\n",
       "      <td>NaN</td>\n",
       "      <td>NaN</td>\n",
       "      <td>NaN</td>\n",
       "      <td>NaN</td>\n",
       "      <td>NaN</td>\n",
       "      <td>NaN</td>\n",
       "      <td>NaN</td>\n",
       "      <td>NaN</td>\n",
       "    </tr>\n",
       "  </tbody>\n",
       "</table>\n",
       "<p>5 rows × 46 columns</p>\n",
       "</div>"
      ],
      "text/plain": [
       "   Cyberincidentnum  Dyadpair StateA  StateB  \\\n",
       "0                 1      2365     US  Russia   \n",
       "1                 2      2365     US  Russia   \n",
       "2                 3      2365     US  Russia   \n",
       "3                 4      2365     US  Russia   \n",
       "4                 5      2365     US  Russia   \n",
       "\n",
       "                                       Name interactionstartdate  \\\n",
       "0        US govt employee in Georgia hacked             8/6/2008   \n",
       "1  Iraq-Afghanistan Pentagon command hacked           11/26/2008   \n",
       "2       Power grid hacked, traced to Russia            8/24/2009   \n",
       "3                    Reign malware campaign           01/02/2008   \n",
       "4                      QWERTY keystroke log           01/02/2008   \n",
       "\n",
       "  interactionenddate  interactiontype  method  APT     ...       Unnamed: 36  \\\n",
       "0          8/12/2008                1     4.2    0     ...               NaN   \n",
       "1         11/28/2008                3     4.2    0     ...               NaN   \n",
       "2          8/24/2009                1     4.2    0     ...               NaN   \n",
       "3         01/03/2011                3     3.0    1     ...               NaN   \n",
       "4         11/03/2011                3     4.4    1     ...               NaN   \n",
       "\n",
       "   Unnamed: 37  Unnamed: 38 Unnamed: 39  Unnamed: 40  Unnamed: 41  \\\n",
       "0          NaN          NaN         NaN          NaN          NaN   \n",
       "1          NaN          NaN         NaN          NaN          NaN   \n",
       "2          NaN          NaN         NaN          NaN          NaN   \n",
       "3          NaN          NaN         NaN          NaN          NaN   \n",
       "4          NaN          NaN         NaN          NaN          NaN   \n",
       "\n",
       "   Unnamed: 42  Unnamed: 43  Unnamed: 44  Unnamed: 45  \n",
       "0          NaN          NaN          NaN          NaN  \n",
       "1          NaN          NaN          NaN          NaN  \n",
       "2          NaN          NaN          NaN          NaN  \n",
       "3          NaN          NaN          NaN          NaN  \n",
       "4          NaN          NaN          NaN          NaN  \n",
       "\n",
       "[5 rows x 46 columns]"
      ]
     },
     "execution_count": 5,
     "metadata": {},
     "output_type": "execute_result"
    }
   ],
   "source": [
    "dcid_df.head() # show five rows (head)"
   ]
  },
  {
   "cell_type": "code",
   "execution_count": 6,
   "metadata": {},
   "outputs": [
    {
     "name": "stdout",
     "output_type": "stream",
     "text": [
      "<class 'pandas.core.frame.DataFrame'>\n",
      "RangeIndex: 164 entries, 0 to 163\n",
      "Data columns (total 46 columns):\n",
      "Cyberincidentnum        164 non-null int64\n",
      "Dyadpair                164 non-null int64\n",
      "StateA                  164 non-null object\n",
      "StateB                  164 non-null object\n",
      "Name                    164 non-null object\n",
      "interactionstartdate    164 non-null object\n",
      "interactionenddate      164 non-null object\n",
      "interactiontype         164 non-null int64\n",
      "method                  164 non-null float64\n",
      "APT                     164 non-null int64\n",
      "targettype              164 non-null int64\n",
      "initiator               164 non-null int64\n",
      "initiator objective     164 non-null int64\n",
      "Political Objective     164 non-null object\n",
      "objective success       164 non-null int64\n",
      "3rdpartyinitator        164 non-null int64\n",
      "3rdparty target         164 non-null int64\n",
      "govtstatement           164 non-null int64\n",
      "severity                164 non-null int64\n",
      "damage type             164 non-null int64\n",
      "Source                  164 non-null object\n",
      "Notes                   164 non-null object\n",
      "Unnamed: 22             1 non-null object\n",
      "Unnamed: 23             0 non-null float64\n",
      "Unnamed: 24             0 non-null float64\n",
      "Unnamed: 25             0 non-null float64\n",
      "Unnamed: 26             0 non-null float64\n",
      "Unnamed: 27             0 non-null float64\n",
      "Unnamed: 28             0 non-null float64\n",
      "Unnamed: 29             0 non-null float64\n",
      "Unnamed: 30             0 non-null float64\n",
      "Unnamed: 31             0 non-null float64\n",
      "Unnamed: 32             0 non-null float64\n",
      "Unnamed: 33             0 non-null float64\n",
      "Unnamed: 34             0 non-null float64\n",
      "Unnamed: 35             0 non-null float64\n",
      "Unnamed: 36             0 non-null float64\n",
      "Unnamed: 37             0 non-null float64\n",
      "Unnamed: 38             0 non-null float64\n",
      "Unnamed: 39             0 non-null float64\n",
      "Unnamed: 40             0 non-null float64\n",
      "Unnamed: 41             0 non-null float64\n",
      "Unnamed: 42             0 non-null float64\n",
      "Unnamed: 43             0 non-null float64\n",
      "Unnamed: 44             0 non-null float64\n",
      "Unnamed: 45             0 non-null float64\n",
      "dtypes: float64(24), int64(13), object(9)\n",
      "memory usage: 59.0+ KB\n"
     ]
    }
   ],
   "source": [
    "dcid_df.info() # information on the dataframe"
   ]
  },
  {
   "cell_type": "code",
   "execution_count": 7,
   "metadata": {},
   "outputs": [],
   "source": [
    "dcid_df= dcid_df.drop(dcid_df.columns[22:], axis=1) # dropping the \"Unnamed Columns\""
   ]
  },
  {
   "cell_type": "code",
   "execution_count": 13,
   "metadata": {},
   "outputs": [
    {
     "data": {
      "text/plain": [
       "3    81\n",
       "1    77\n",
       "2     6\n",
       "Name: interactiontype, dtype: int64"
      ]
     },
     "execution_count": 13,
     "metadata": {},
     "output_type": "execute_result"
    }
   ],
   "source": [
    "dcid_df['interactiontype'].value_counts() # counts for interactiontype column"
   ]
  },
  {
   "cell_type": "code",
   "execution_count": 8,
   "metadata": {},
   "outputs": [
    {
     "name": "stdout",
     "output_type": "stream",
     "text": [
      "<class 'pandas.core.frame.DataFrame'>\n",
      "RangeIndex: 164 entries, 0 to 163\n",
      "Data columns (total 22 columns):\n",
      "Cyberincidentnum        164 non-null int64\n",
      "Dyadpair                164 non-null int64\n",
      "StateA                  164 non-null object\n",
      "StateB                  164 non-null object\n",
      "Name                    164 non-null object\n",
      "interactionstartdate    164 non-null object\n",
      "interactionenddate      164 non-null object\n",
      "interactiontype         164 non-null int64\n",
      "method                  164 non-null float64\n",
      "APT                     164 non-null int64\n",
      "targettype              164 non-null int64\n",
      "initiator               164 non-null int64\n",
      "initiator objective     164 non-null int64\n",
      "Political Objective     164 non-null object\n",
      "objective success       164 non-null int64\n",
      "3rdpartyinitator        164 non-null int64\n",
      "3rdparty target         164 non-null int64\n",
      "govtstatement           164 non-null int64\n",
      "severity                164 non-null int64\n",
      "damage type             164 non-null int64\n",
      "Source                  164 non-null object\n",
      "Notes                   164 non-null object\n",
      "dtypes: float64(1), int64(13), object(8)\n",
      "memory usage: 28.3+ KB\n"
     ]
    }
   ],
   "source": [
    "dcid_df.info()"
   ]
  },
  {
   "cell_type": "code",
   "execution_count": 9,
   "metadata": {},
   "outputs": [
    {
     "data": {
      "text/plain": [
       "3.0    73\n",
       "1.0    26\n",
       "2.0    25\n",
       "4.2    19\n",
       "4.4     9\n",
       "4.3     8\n",
       "4.1     4\n",
       "Name: method, dtype: int64"
      ]
     },
     "execution_count": 9,
     "metadata": {},
     "output_type": "execute_result"
    }
   ],
   "source": [
    "dcid_df['method'].value_counts() # counts for method column"
   ]
  },
  {
   "cell_type": "code",
   "execution_count": 10,
   "metadata": {},
   "outputs": [
    {
     "data": {
      "text/plain": [
       "710    60\n",
       "2      18\n",
       "365    17\n",
       "731    16\n",
       "630    15\n",
       "666     9\n",
       "750     7\n",
       "732     7\n",
       "770     7\n",
       "740     3\n",
       "713     1\n",
       "690     1\n",
       "660     1\n",
       "652     1\n",
       "372     1\n",
       "Name: initiator, dtype: int64"
      ]
     },
     "execution_count": 10,
     "metadata": {},
     "output_type": "execute_result"
    }
   ],
   "source": [
    "dcid_df['initiator'].value_counts() # counts for initiator column"
   ]
  },
  {
   "cell_type": "code",
   "execution_count": 13,
   "metadata": {},
   "outputs": [
    {
     "data": {
      "text/plain": [
       "0      False\n",
       "1      False\n",
       "2      False\n",
       "3      False\n",
       "4      False\n",
       "5      False\n",
       "6      False\n",
       "7       True\n",
       "8      False\n",
       "9      False\n",
       "10     False\n",
       "11     False\n",
       "12      True\n",
       "13     False\n",
       "14     False\n",
       "15     False\n",
       "16     False\n",
       "17     False\n",
       "18     False\n",
       "19     False\n",
       "20      True\n",
       "21     False\n",
       "22     False\n",
       "23     False\n",
       "24      True\n",
       "25      True\n",
       "26     False\n",
       "27     False\n",
       "28     False\n",
       "29     False\n",
       "       ...  \n",
       "134    False\n",
       "135    False\n",
       "136    False\n",
       "137    False\n",
       "138    False\n",
       "139    False\n",
       "140    False\n",
       "141    False\n",
       "142    False\n",
       "143    False\n",
       "144    False\n",
       "145    False\n",
       "146    False\n",
       "147    False\n",
       "148    False\n",
       "149    False\n",
       "150    False\n",
       "151    False\n",
       "152    False\n",
       "153    False\n",
       "154    False\n",
       "155    False\n",
       "156    False\n",
       "157    False\n",
       "158    False\n",
       "159    False\n",
       "160    False\n",
       "161    False\n",
       "162    False\n",
       "163    False\n",
       "Name: Political Objective, dtype: bool"
      ]
     },
     "execution_count": 13,
     "metadata": {},
     "output_type": "execute_result"
    }
   ],
   "source": [
    "dcid_df[\"Political Objective\"].str.contains(\"Espionage\") # filter for string \"Espionage\" in Political Objective Columns"
   ]
  },
  {
   "cell_type": "code",
   "execution_count": 16,
   "metadata": {},
   "outputs": [
    {
     "data": {
      "text/plain": [
       "26       2\n",
       "36     710\n",
       "43       2\n",
       "52     710\n",
       "54       2\n",
       "67     710\n",
       "142    732\n",
       "Name: initiator, dtype: int64"
      ]
     },
     "execution_count": 16,
     "metadata": {},
     "output_type": "execute_result"
    }
   ],
   "source": [
    "dcid_df[\"initiator\"][dcid_df[\"Political Objective\"].str.contains(\"China\")] "
   ]
  },
  {
   "cell_type": "code",
   "execution_count": null,
   "metadata": {},
   "outputs": [],
   "source": []
  },
  {
   "cell_type": "code",
   "execution_count": 19,
   "metadata": {},
   "outputs": [],
   "source": [
    "dcid_esp= dcid_df[dcid_df[\"Political Objective\"].str.contains(\"China\")] # new dataframe for Espionage cases only"
   ]
  },
  {
   "cell_type": "code",
   "execution_count": 24,
   "metadata": {},
   "outputs": [],
   "source": [
    "import numpy as np\n",
    "import matplotlib.pyplot as plt\n",
    "import seaborn as sns\n",
    "%matplotlib inline"
   ]
  },
  {
   "cell_type": "code",
   "execution_count": 25,
   "metadata": {},
   "outputs": [
    {
     "data": {
      "text/plain": [
       "<seaborn.axisgrid.FacetGrid at 0x10b5e9a90>"
      ]
     },
     "execution_count": 25,
     "metadata": {},
     "output_type": "execute_result"
    },
    {
     "data": {
      "image/png": "[encoded data removed]",
      "text/plain": [
       "<matplotlib.figure.Figure at 0x10b5e99e8>"
      ]
     },
     "metadata": {},
     "output_type": "display_data"
    }
   ],
   "source": [
    "g= sns.factorplot('method',data=dcid_df, aspect=2.0, palette='Set1', kind='count')\n",
    "g.set_xticklabels(rotation=80)"
   ]
  },
  {
   "cell_type": "code",
   "execution_count": 26,
   "metadata": {},
   "outputs": [],
   "source": [
    "def cyber_method(entry):\n",
    "    method = entry\n",
    "    \n",
    "    if method == 1:\n",
    "        return 'Vandalism'\n",
    "    elif method == 2:\n",
    "        return 'DDOS'\n",
    "    elif method == 3:\n",
    "        return 'Intrusion'\n",
    "    else: \n",
    "        return 'Infiltration'\n",
    "    "
   ]
  },
  {
   "cell_type": "code",
   "execution_count": 27,
   "metadata": {},
   "outputs": [],
   "source": [
    "dcid_df['Method'] = dcid_df['method'].apply(cyber_method)"
   ]
  },
  {
   "cell_type": "code",
   "execution_count": 28,
   "metadata": {},
   "outputs": [
    {
     "data": {
      "image/png": "[encoded data removed]",
      "text/plain": [
       "<matplotlib.figure.Figure at 0x10601c710>"
      ]
     },
     "metadata": {},
     "output_type": "display_data"
    }
   ],
   "source": [
    "g= sns.factorplot('Method',data=dcid_df, aspect=2.0, palette='Set1', kind='count')\n"
   ]
  },
  {
   "cell_type": "code",
   "execution_count": 25,
   "metadata": {},
   "outputs": [],
   "source": [
    "def initiator(x):\n",
    "    attacker = x\n",
    "    \n",
    "    if attacker == 710:\n",
    "        return 'China'\n",
    "    elif attacker == 2:\n",
    "        return 'USA'\n",
    "    elif attacker == 365:\n",
    "        return 'Russia'\n",
    "    elif attacker == 731:\n",
    "        return 'North Korea'\n",
    "    elif attacker == 630:\n",
    "        return 'Iran'\n",
    "    elif attacker == 666:\n",
    "        return 'Israel'\n",
    "    elif attacker == 750:\n",
    "        return 'India'\n",
    "    elif attacker == 732:\n",
    "        return 'South Korea'\n",
    "    elif attacker == 770:\n",
    "        return 'Pakistan'\n",
    "    elif attacker == 740:\n",
    "        return 'Japan'\n",
    "    elif attacker == 713:\n",
    "        return 'Taiwan'\n",
    "    elif attacker == 690:\n",
    "        return 'Kuwait'\n",
    "    elif attacker == 660:\n",
    "        return 'Lebanon'\n",
    "    elif attacker == 652:\n",
    "        return 'Syria'\n",
    "    else: \n",
    "        return 'Georgia'\n"
   ]
  },
  {
   "cell_type": "code",
   "execution_count": 26,
   "metadata": {},
   "outputs": [],
   "source": [
    "dcid_df['initiator'] = dcid_df['initiator'].apply(initiator)"
   ]
  },
  {
   "cell_type": "code",
   "execution_count": 27,
   "metadata": {},
   "outputs": [
    {
     "data": {
      "text/plain": [
       "<seaborn.axisgrid.FacetGrid at 0x10b80c898>"
      ]
     },
     "execution_count": 27,
     "metadata": {},
     "output_type": "execute_result"
    },
    {
     "data": {
      "image/png": "[encoded data removed]",
      "text/plain": [
       "<matplotlib.figure.Figure at 0x10b80c8d0>"
      ]
     },
     "metadata": {},
     "output_type": "display_data"
    }
   ],
   "source": [
    "g2= sns.factorplot('initiator',data=dcid_df, order = ['China','USA','Russia',\n",
    "                                                      'North Korea','Iran',\n",
    "                                                      'Israel','India','South Korea',\n",
    "                                                      'Pakistan','Japan','Taiwan','Kuwait',\n",
    "                                                      'Lebanon', 'Syria','Georgia'],aspect=3.0, palette='Set1', kind='count')\n",
    "g2.set_xticklabels(rotation=60)"
   ]
  },
  {
   "cell_type": "code",
   "execution_count": 50,
   "metadata": {},
   "outputs": [
    {
     "data": {
      "text/plain": [
       "<seaborn.axisgrid.FacetGrid at 0x10e8a70b8>"
      ]
     },
     "execution_count": 50,
     "metadata": {},
     "output_type": "execute_result"
    },
    {
     "data": {
      "image/png": "[encoded data removed]",
      "text/plain": [
       "<matplotlib.figure.Figure at 0x10e8c4f98>"
      ]
     },
     "metadata": {},
     "output_type": "display_data"
    }
   ],
   "source": [
    "g3= sns.factorplot('initiator',data=dcid_df, hue='Method', order = ['China','USA','Russia',\n",
    "                                                      'North Korea','Iran',\n",
    "                                                      'Israel','India','South Korea',\n",
    "                                                      'Pakistan','Japan','Taiwan','Kuwait',\n",
    "                                                      'Lebanon', 'Syria','Georgia'],aspect=2.5, palette='Set1', kind='count')\n",
    "g3.set_xticklabels(rotation=60)"
   ]
  },
  {
   "cell_type": "code",
   "execution_count": null,
   "metadata": {},
   "outputs": [],
   "source": []
  }
 ],
 "metadata": {
  "kernelspec": {
   "display_name": "Python 3",
   "language": "python",
   "name": "python3"
  },
  "language_info": {
   "codemirror_mode": {
    "name": "ipython",
    "version": 3
   },
   "file_extension": ".py",
   "mimetype": "text/x-python",
   "name": "python",
   "nbconvert_exporter": "python",
   "pygments_lexer": "ipython3",
   "version": "3.5.1"
  }
 },
 "nbformat": 4,
 "nbformat_minor": 0
}
